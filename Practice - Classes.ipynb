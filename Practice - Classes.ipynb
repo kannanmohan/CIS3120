{
 "cells": [
  {
   "cell_type": "code",
   "execution_count": 4,
   "metadata": {},
   "outputs": [
    {
     "name": "stdout",
     "output_type": "stream",
     "text": [
      "Enter sectionNumber: CIS9340CMWA\n",
      "0\n"
     ]
    }
   ],
   "source": [
    "class CourseSection:\n",
    "    \n",
    "    def __init__(self, sectionNumber):\n",
    "        self.__sectionNumber=sectionNumber\n",
    "        fob=open('CourseSectionAvbl.txt','r')\n",
    "        for line in fob:\n",
    "            ls=line.split()\n",
    "            if ls[0]+ls[1]==sectionNumber:\n",
    "                self.__seats=ls[2]\n",
    "        fob.close()\n",
    "        \n",
    "    def get_seats(self):\n",
    "        return self.__seats\n",
    "    \n",
    "    def set_seats(self,seats):\n",
    "        self.__seats=seats\n",
    "\n",
    "\n",
    "\n",
    "class Student:\n",
    "    \n",
    "    def __init__(self,name,email):\n",
    "        self.__name=name\n",
    "        self.__email=email\n",
    "    \n",
    "    def get_name(self):\n",
    "        return self.__name\n",
    "    \n",
    "    def set_name(self,name):\n",
    "        self.__name=name\n",
    "        \n",
    "    def check_section_availability(self,sectionNumber):\n",
    "        mySection=CourseSection(sectionNumber)\n",
    "        print(mySection.get_seats())\n",
    "\n",
    "def main():\n",
    "    s1=Student('ravi','ravi@gmail.com')\n",
    "    s=input('Enter sectionNumber: ')\n",
    "    s1.check_section_availability(s)\n",
    "\n",
    "main()"
   ]
  },
  {
   "cell_type": "code",
   "execution_count": null,
   "metadata": {
    "collapsed": true
   },
   "outputs": [],
   "source": []
  }
 ],
 "metadata": {
  "kernelspec": {
   "display_name": "Python 3",
   "language": "python",
   "name": "python3"
  },
  "language_info": {
   "codemirror_mode": {
    "name": "ipython",
    "version": 3
   },
   "file_extension": ".py",
   "mimetype": "text/x-python",
   "name": "python",
   "nbconvert_exporter": "python",
   "pygments_lexer": "ipython3",
   "version": "3.6.3"
  }
 },
 "nbformat": 4,
 "nbformat_minor": 2
}
